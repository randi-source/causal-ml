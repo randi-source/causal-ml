{
 "cells": [
  {
   "cell_type": "markdown",
   "metadata": {},
   "source": [
    "# CAUSAL ML API\n",
    "1. Propensity Score \\\n",
    "a. Propensity Score Estimation \\\n",
    "b. Propensity Score Matching\n",
    "\n",
    "2. Averagee Treatment Effect (ATE) Estimation \\\n",
    "a. Meta-learners and Uplift Trees\n",
    "\n",
    "3. More algorithm \\\n",
    "a. Treatment optimization algorithm \\\n",
    "b. Instrumental variables algorithm (2-Stage Least Square (2SLS)) \\\n",
    "c. Neural network based algorithms (CEVAE, DragonNet)\n",
    "\n",
    "4. Interpretation\n",
    "5. Validation\n",
    "6. Synthetic Data Generation Process \\\n",
    "a. Single Simulation \\\n",
    "b. Multiple Simulations\n",
    "7. Sensitivity Analysis\n",
    "8. Feature Selection"
   ]
  }
 ],
 "metadata": {
  "kernelspec": {
   "display_name": "causal-ml",
   "language": "python",
   "name": "python3"
  },
  "language_info": {
   "name": "python",
   "version": "3.10.13"
  }
 },
 "nbformat": 4,
 "nbformat_minor": 2
}
